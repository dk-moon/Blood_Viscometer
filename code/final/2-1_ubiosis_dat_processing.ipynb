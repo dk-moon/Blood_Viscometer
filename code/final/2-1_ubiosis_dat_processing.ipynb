{
 "cells": [
  {
   "attachments": {},
   "cell_type": "markdown",
   "metadata": {},
   "source": [
    "# Import Libraries"
   ]
  },
  {
   "cell_type": "code",
   "execution_count": 1,
   "metadata": {},
   "outputs": [
    {
     "name": "stderr",
     "output_type": "stream",
     "text": [
      "c:\\Users\\mdk05\\AppData\\Local\\Programs\\Python\\Python311\\Lib\\site-packages\\tqdm\\auto.py:21: TqdmWarning: IProgress not found. Please update jupyter and ipywidgets. See https://ipywidgets.readthedocs.io/en/stable/user_install.html\n",
      "  from .autonotebook import tqdm as notebook_tqdm\n"
     ]
    }
   ],
   "source": [
    "import time\n",
    "from array import array\n",
    "import os\n",
    "import shutil\n",
    "import time\n",
    "import pandas as pd\n",
    "import numpy as np\n",
    "from tqdm.auto import tqdm, trange\n",
    "from glob import glob\n",
    "import gc\n",
    "import warnings\n",
    "warnings.filterwarnings('ignore')"
   ]
  },
  {
   "attachments": {},
   "cell_type": "markdown",
   "metadata": {},
   "source": [
    "# Get Data Path"
   ]
  },
  {
   "cell_type": "code",
   "execution_count": 2,
   "metadata": {},
   "outputs": [],
   "source": [
    "data_path = \"G:/Ubiosis/recon\"\n",
    "\n",
    "subject_list = list(os.listdir(data_path))"
   ]
  },
  {
   "attachments": {},
   "cell_type": "markdown",
   "metadata": {},
   "source": [
    "# Get X"
   ]
  },
  {
   "cell_type": "code",
   "execution_count": 9,
   "metadata": {},
   "outputs": [],
   "source": [
    "def dat_process(dat_path):\n",
    "    # dat file open by lines\n",
    "    with open(dat_path, encoding='euc-kr') as dat_data:\n",
    "        data = dat_data.read().splitlines()\n",
    "    \n",
    "    if len(data) > 35: # 정상적으로 관측되었을 경우\n",
    "        # Meta 파일 추출 (FIRST TEST COUNT, RISER RADIUS)\n",
    "        ftc_row = data[10]\n",
    "        ftc_row = ftc_row.split(\",\")\n",
    "        ftc = ftc_row[5]\n",
    "\n",
    "        rr_row = data[24]\n",
    "        rr_row = rr_row.split(\",\")\n",
    "        rr = rr_row[5]\n",
    "        \n",
    "        meta_dict = {\n",
    "            'FIRST_TEST_COUNT':ftc,\n",
    "            'RISER RADIUS':rr\n",
    "        }\n",
    "        meta_df = pd.DataFrame(meta_dict, index=[0])\n",
    "        \n",
    "        # Column 정의\n",
    "        column = [\"Time\", \"Temp(F)\", \"CIS_1\", \"CIS_2\"]\n",
    "\n",
    "        # 관측값 추출\n",
    "        values_list = []\n",
    "        # line별 data 추출\n",
    "        for idx in range(32,len(data)-2):\n",
    "            tmp_list=[]\n",
    "            value_list = data[idx] # raw 데이터 담는 리스트\n",
    "            value_list = value_list.split(\",\")[:-1] # line에서 , 기준으로 데이터 분리\n",
    "\n",
    "            values = [] # 정리한 데이터를 담는 리스트\n",
    "            for v in value_list:\n",
    "                value = v.strip() # 데이터 앞/뒤의 공백 문자 제거\n",
    "                values.append(value)\n",
    "\n",
    "            tmp_list.append(values[0])\n",
    "            tmp_list.append(values[1])\n",
    "            tmp_list.append(values[2])\n",
    "            tmp_list.append(values[3])\n",
    "            values_list.append(tmp_list)\n",
    "\n",
    "        value_df = pd.DataFrame(columns=column,data=values_list)\n",
    "\n",
    "    return meta_df, value_df"
   ]
  },
  {
   "cell_type": "code",
   "execution_count": 10,
   "metadata": {},
   "outputs": [
    {
     "name": "stderr",
     "output_type": "stream",
     "text": [
      "100%|██████████| 81430/81430 [1:17:01<00:00, 17.62it/s]\n"
     ]
    }
   ],
   "source": [
    "trg_path = \"G:/Ubiosis/data\"\n",
    "if os.path.isdir(trg_path) == False:\n",
    "    os.mkdir(trg_path)\n",
    "\n",
    "err_list = []\n",
    "for idx in trange(len(subject_list)):\n",
    "    # 대상자 ID 정보 호출 후 경로 변수 생성\n",
    "    subject = subject_list[idx]\n",
    "    subject_path = os.path.join(data_path, subject)\n",
    "    \n",
    "    # Target 폴더에 ID 폴더 생성\n",
    "    new_id_path = os.path.join(trg_path, subject)\n",
    "    if os.path.isdir(new_id_path) == False:\n",
    "        os.mkdir(new_id_path)\n",
    "    \n",
    "    org_file_list = list(os.listdir(subject_path))\n",
    "    for file in org_file_list:\n",
    "        file_ext = file.split(\".\")[-1]\n",
    "        \n",
    "        if file_ext == \"dat\":\n",
    "            meta_df, value_df = dat_process(os.path.join(subject_path, file))\n",
    "            meta_path = os.path.join(new_id_path, (subject + \"_meta.csv\"))\n",
    "            value_path = os.path.join(new_id_path, (subject + \"_x.csv\"))\n",
    "            meta_df.to_csv(meta_path, index=False)\n",
    "            value_df.to_csv(value_path, index=False)"
   ]
  },
  {
   "cell_type": "code",
   "execution_count": null,
   "metadata": {},
   "outputs": [],
   "source": []
  }
 ],
 "metadata": {
  "kernelspec": {
   "display_name": "base",
   "language": "python",
   "name": "python3"
  },
  "language_info": {
   "codemirror_mode": {
    "name": "ipython",
    "version": 3
   },
   "file_extension": ".py",
   "mimetype": "text/x-python",
   "name": "python",
   "nbconvert_exporter": "python",
   "pygments_lexer": "ipython3",
   "version": "3.11.2"
  },
  "orig_nbformat": 4
 },
 "nbformat": 4,
 "nbformat_minor": 2
}
