{
 "cells": [
  {
   "attachments": {},
   "cell_type": "markdown",
   "metadata": {},
   "source": [
    "# Import Libraris"
   ]
  },
  {
   "cell_type": "code",
   "execution_count": null,
   "metadata": {},
   "outputs": [],
   "source": [
    "from azure.cognitiveservices.vision.computervision import ComputerVisionClient\n",
    "from azure.cognitiveservices.vision.computervision.models import OperationStatusCodes\n",
    "from azure.cognitiveservices.vision.computervision.models import VisualFeatureTypes\n",
    "from msrest.authentication import CognitiveServicesCredentials\n",
    "\n",
    "import time\n",
    "from array import array\n",
    "import os\n",
    "import shutil\n",
    "from PIL import Image, ImageDraw\n",
    "import sys\n",
    "import time\n",
    "import requests\n",
    "from io import BytesIO\n",
    "import pandas as pd\n",
    "import numpy as np\n",
    "from tqdm.auto import tqdm, trange\n",
    "from glob import glob\n",
    "import gc\n",
    "import warnings\n",
    "warnings.filterwarnings('ignore')"
   ]
  },
  {
   "attachments": {},
   "cell_type": "markdown",
   "metadata": {},
   "source": [
    "# Get ORG Data"
   ]
  },
  {
   "cell_type": "code",
   "execution_count": null,
   "metadata": {},
   "outputs": [],
   "source": [
    "org_path = \"\" # 대상자의 폴더들이 들어있는 메인 폴더 경로"
   ]
  },
  {
   "attachments": {},
   "cell_type": "markdown",
   "metadata": {},
   "source": [
    "# Define Azure Cognitive service Key"
   ]
  },
  {
   "cell_type": "code",
   "execution_count": null,
   "metadata": {},
   "outputs": [],
   "source": [
    "# Azure OCR Resource의 구독 key 값 및 endpoint 경로\n",
    "subscription_key = \"\"\n",
    "endpoint = \"\"\n",
    "\n",
    "computervision_client = ComputerVisionClient(endpoint, CognitiveServicesCredentials(subscription_key))"
   ]
  },
  {
   "attachments": {},
   "cell_type": "markdown",
   "metadata": {},
   "source": [
    "# Image Crop Setting"
   ]
  },
  {
   "cell_type": "code",
   "execution_count": null,
   "metadata": {},
   "outputs": [],
   "source": [
    "# bmp 파일의 높이, 길이의 크기에 따른 Shear Rate Table의 위치 Crop 함수\n",
    "def get_shear_table(org_img, table_path):\n",
    "    width, height = org_img.size\n",
    "    if width >= 1800:\n",
    "        # Setting the points for cropped image\n",
    "        shear_img = org_img.crop((1050, 310, 1400, 460))\n",
    "        shear_img.save(table_path)\n",
    "    else:\n",
    "        shear_img = org_img.crop((750, 250, 1000, 400))\n",
    "        shear_img.save(table_path)\n",
    "    \n",
    "    read_shear_image = open(table_path,\"rb\")\n",
    "    \n",
    "    return read_shear_image"
   ]
  },
  {
   "attachments": {},
   "cell_type": "markdown",
   "metadata": {},
   "source": [
    "# Get Y"
   ]
  },
  {
   "cell_type": "code",
   "execution_count": null,
   "metadata": {},
   "outputs": [],
   "source": [
    "# bmp 이미지를 가져와서 OCR 수행하는 함수\n",
    "def bmp_process(bmp_path):\n",
    "    # Get Image\n",
    "    bmp_img = Image.open(bmp_path)\n",
    "    tmp_path = \"/\".join(bmp_path.replace(\"\\\\\",\"/\").split(\"/\")[:-1])\n",
    "    \n",
    "    table_path = os.path.join(tmp_path, \"img_crop.png\")\n",
    "    \n",
    "    read_shear_image = get_shear_table(bmp_img, table_path)\n",
    "        \n",
    "    # Call API with URL and raw response (allows you to get the operation location)\n",
    "    read_response = computervision_client.read_in_stream(read_shear_image,  raw=True)\n",
    "    # Get the operation location (URL with an ID at the end) from the response\n",
    "    read_operation_location = read_response.headers[\"Operation-Location\"]\n",
    "    # Grab the ID from the URL\n",
    "    operation_id = read_operation_location.split(\"/\")[-1]\n",
    "    \n",
    "    # Call the \"GET\" API and wait for it to retrieve the results \n",
    "    while True:\n",
    "        read_result = computervision_client.get_read_result(operation_id)\n",
    "        if read_result.status not in ['notStarted', 'running']:\n",
    "            break\n",
    "        time.sleep(1)\n",
    "\n",
    "    # Result to DataFrame\n",
    "    result_list = []\n",
    "    if read_result.status == OperationStatusCodes.succeeded:\n",
    "        for text_result in read_result.analyze_result.read_results:\n",
    "            for line in text_result.lines:\n",
    "                result_list.append(line.text)\n",
    "    \n",
    "    # OCR 결과 중 \",\"로 인식되었을 경우 \".\"으로 변환\n",
    "    re_result_list = []\n",
    "    for i in range(len(result_list)):\n",
    "        value = result_list[i]\n",
    "        value.replace(\",\",\".\")\n",
    "        re_result_list.append(value)\n",
    "\n",
    "    try:\n",
    "        result_dict ={\n",
    "            re_result_list[0] : [float(re_result_list[1])],\n",
    "            re_result_list[2] : [float(re_result_list[3])],\n",
    "            re_result_list[4] : [float(re_result_list[5])],\n",
    "            re_result_list[6] : [float(re_result_list[7])],\n",
    "            re_result_list[8] : [float(re_result_list[9])],\n",
    "            re_result_list[10] : [float(re_result_list[11])],\n",
    "            re_result_list[12] : [float(re_result_list[13])],\n",
    "            re_result_list[14] : [float(re_result_list[15])],\n",
    "            re_result_list[16] : [float(re_result_list[17])],\n",
    "        }\n",
    "        result_df = pd.DataFrame(result_dict)\n",
    "    except:\n",
    "        result_df = pd.DataFrame()\n",
    "    \n",
    "    gc.collect()\n",
    "    return result_df"
   ]
  },
  {
   "cell_type": "code",
   "execution_count": null,
   "metadata": {},
   "outputs": [],
   "source": [
    "# OCR 결과 저장하기 위한 폴더\n",
    "trg_path = \"./Ubiosis/tmp_y\"\n",
    "# 해당 폴더가 미존재 시 폴더 생성\n",
    "if os.path.isdir(trg_path) == False:\n",
    "    os.mkdir(trg_path)\n",
    "\n",
    "root_path = \"./Ubiosis/data\" # 데이터 폴더 경로\n",
    "\n",
    "# 1. 학습 대상자 폴더 정합성 확인\n",
    "## 운영체제 특성 또는 외장하드 특성상 숨김 파일 또는 임시 파일까지 읽어들이는 경우가 있어서 필터링 필요\n",
    "tmp_subject_list = list(os.listdir(root_path)) # 데이터 저장 폴더 안에 있는 파일 및 폴더명을 불러와서 리스트에 저장\n",
    "subject_list = [] # 정상 대상자 id 저장할 리스트 객체\n",
    "for i in range(len(tmp_subject_list)):\n",
    "    subject = tmp_subject_list[i] # 리스트 객체의 원소 1개씩 탐색\n",
    "    first_char = subject[0] # 폴더 및 파일 명의 첫번째 문자를 가져옴\n",
    "    # 비식별화를 수행하였으면, 폴더의 명이 u 로 시작하기 때문에 첫번째 문자가 u 로 시작하는 폴더명을 정상 대상자 id 리스트 객체에 저장\n",
    "    if first_char == 'u':\n",
    "        subject_list.append(subject)\n",
    "\n",
    "err_list = [] # 오류 발생 시 오류가 발생한 대상자 정보 저장하기 위한 리스트 객체\n",
    "for idx in trange(len(subject_list)):\n",
    "    # 대상자 ID 정보 호출 후 경로 변수 생성\n",
    "    subject = subject_list[idx]\n",
    "    subject_path = os.path.join(org_path, subject)\n",
    "    \n",
    "    # 정상 데이터 대상으로 작업 수행\n",
    "    # Target 폴더에 ID 폴더 생성\n",
    "    new_id_path = os.path.join(trg_path, subject)\n",
    "    if os.path.isdir(new_id_path) == False:\n",
    "        os.mkdir(new_id_path)\n",
    "    \n",
    "    org_file_list = list(os.listdir(subject_path))\n",
    "    for file in org_file_list:\n",
    "        file_ext = file.split(\".\")[-1]\n",
    "        \n",
    "        if file_ext == \"txt\":\n",
    "            shutil.copy(os.path.join(subject_path, file), os.path.join(new_id_path, (subject + \"_yprime.txt\")))\n",
    "        elif file_ext == \"bmp\":\n",
    "            result_df = bmp_process(os.path.join(subject_path, file))\n",
    "            \n",
    "            if len(result_df) > 0:\n",
    "                result_path = os.path.join(new_id_path, (subject + \"_y.csv\"))\n",
    "                result_df.to_csv(result_path, index=False)\n",
    "            else:\n",
    "                pass"
   ]
  },
  {
   "cell_type": "code",
   "execution_count": null,
   "metadata": {},
   "outputs": [],
   "source": []
  }
 ],
 "metadata": {
  "kernelspec": {
   "display_name": "Python 3",
   "language": "python",
   "name": "python3"
  },
  "language_info": {
   "codemirror_mode": {
    "name": "ipython",
    "version": 3
   },
   "file_extension": ".py",
   "mimetype": "text/x-python",
   "name": "python",
   "nbconvert_exporter": "python",
   "pygments_lexer": "ipython3",
   "version": "3.11.2"
  },
  "orig_nbformat": 4
 },
 "nbformat": 4,
 "nbformat_minor": 2
}
