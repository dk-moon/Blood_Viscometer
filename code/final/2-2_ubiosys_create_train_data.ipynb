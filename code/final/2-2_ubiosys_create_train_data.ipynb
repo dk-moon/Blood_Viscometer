{
 "cells": [
  {
   "cell_type": "markdown",
   "metadata": {},
   "source": [
    "# Import Libraries"
   ]
  },
  {
   "cell_type": "code",
   "execution_count": null,
   "metadata": {},
   "outputs": [],
   "source": [
    "import pandas as pd\n",
    "import numpy as np\n",
    "import os\n",
    "\n",
    "from glob import glob\n",
    "from tqdm.auto import tqdm"
   ]
  },
  {
   "cell_type": "markdown",
   "metadata": {},
   "source": [
    "# Data Load\n",
    "- 데이터 비식별화 작업을 수행 후 데이터 전처리 수행 가능"
   ]
  },
  {
   "cell_type": "code",
   "execution_count": null,
   "metadata": {},
   "outputs": [],
   "source": [
    "root_path = \"./Ubiosis/data\" # 데이터 저장 폴더 경로\n",
    "\n",
    "# 1. 학습 대상자 폴더 정합성 확인\n",
    "## 운영체제 특성 또는 외장하드 특성상 숨김 파일 또는 임시 파일까지 읽어들이는 경우가 있어서 필터링 필요\n",
    "tmp_subject_list = list(os.listdir(root_path)) # 데이터 저장 폴더 안에 있는 파일 및 폴더명을 불러와서 리스트에 저장\n",
    "subject_list = [] # 정상 대상자 id 저장할 리스트 객체\n",
    "for i in range(len(tmp_subject_list)):\n",
    "    subject = tmp_subject_list[i] # 리스트 객체의 원소 1개씩 탐색\n",
    "    first_char = subject[0] # 폴더 및 파일 명의 첫번째 문자를 가져옴\n",
    "    # 비식별화를 수행하였으면, 폴더의 명이 u 로 시작하기 때문에 첫번째 문자가 u 로 시작하는 폴더명을 정상 대상자 id 리스트 객체에 저장\n",
    "    if first_char == 'u':\n",
    "        subject_list.append(subject)\n",
    "\n",
    "# 2. 정상 대상자 id 리스트에서 데이터 추출\n",
    "data_list = [] # 데이터를 담을 리스트 객체 정의\n",
    "err_list = [] # 데이터에 오류가 발생 시 오류 대상자를 담을 리스트 정의\n",
    "for idx in tqdm(range(len(subject_list))):\n",
    "    subject = subject_list[idx] # 대상자 1명씩 탐색\n",
    "    subject_path = os.path.join(root_path, subject) # 대상자 폴더의 경로 문자열\n",
    "    try:\n",
    "        datas = [] # 대상자 1명의 데이터를 담을 리스트 객체 정의\n",
    "        # dat 파일에서 추출한 Radius 정보와 CIS 시작 위치를 저장하였던 meta csv 파일 호출\n",
    "        meta_file = pd.read_csv(os.path.join(subject_path, \"_\".join((subject, \"meta.csv\"))))\n",
    "        start_idx = meta_file['FIRST_TEST_COUNT'].values[0]\n",
    "        radius_value = meta_file['RISER RADIUS'].values[0]\n",
    "        \n",
    "        # Radius 값 변환\n",
    "        ## X / 2 / 1000 * 0.9473677 = Radius value\n",
    "        ## X = Radius value * 2 * 1000 / 0,9473677\n",
    "        r_radius = round(float(radius_value) / 0.9473677 * 1000 * 2, 2)\n",
    "        # Radius의 변환 값이 3.1이상 3.28이하인 경우에만 CIS 데이터 추출 수행\n",
    "        ## 이후 Radius의 기준 범위가 변경될 시 조건문의 3.1과 3.28의 범위 수정 혹은\n",
    "        ## 새로운 조건을 elif 문을 통해 추가 필요\n",
    "        if r_radius >= 3.1 and r_radius <= 3.28:\n",
    "            # OCR을 통해 저장하였던 shear rate 값 호출\n",
    "            y_file = pd.read_csv(os.path.join(subject_path, \"_\".join((subject, \"y.csv\"))))\n",
    "            y_file = y_file.astype('float32')\n",
    "            \n",
    "            v_1000 = float(y_file['1000'].iloc[0])\n",
    "            v_300 = float(y_file['300'].iloc[0])\n",
    "            v_150 = float(y_file['150'].iloc[0])\n",
    "            v_100 = float(y_file['100'].iloc[0])\n",
    "            v_50 = float(y_file['50'].iloc[0])\n",
    "            v_10 = float(y_file['10'].iloc[0])\n",
    "            v_5 = float(y_file['5'].iloc[0])\n",
    "            v_2 = float(y_file['2'].iloc[0])\n",
    "            v_1 = float(y_file['1'].iloc[0])\n",
    "            v_list = [v_1000, v_300, v_150, v_100, v_50, v_10, v_5, v_2, v_1]\n",
    "\n",
    "            # Shear Rate의 값이 정상 범주 안에 있는 경우의 데이터만 추출하기 위한 조건문\n",
    "            # Shear Rate의 정상 값의 범위 변경 시 해당 if 문의 2와 6의 값 변경 필요\n",
    "            ## Shear Rate의 정상 값의 범위에 해당하는 CIS 데이터 추출\n",
    "            if v_1000 >= 2 and v_1000 < 6:\n",
    "                x_file = pd.read_csv(os.path.join(subject_path, \"_\".join((subject, \"x.csv\"))))\n",
    "                x_file = x_file.astype('float32')\n",
    "                cis_1_data = list(x_file[\"CIS_1\"].values[start_idx:start_idx+6000])\n",
    "                cis_2_data = list(x_file[\"CIS_2\"].values[start_idx:start_idx+6000])\n",
    "                \n",
    "                if len(cis_1_data) >= 6000 and len(cis_2_data):\n",
    "                    datas.extend([r_radius])\n",
    "                    datas.extend(cis_1_data)\n",
    "                    datas.extend(cis_2_data)\n",
    "                    datas.extend(v_list)\n",
    "                    \n",
    "                    data_list.append(datas)\n",
    "                else:\n",
    "                    pass\n",
    "            else:\n",
    "                pass\n",
    "        \n",
    "    except Exception as ex:\n",
    "        # print(subject_path)\n",
    "        err_list.append(subject)\n",
    "        pass"
   ]
  },
  {
   "cell_type": "code",
   "execution_count": null,
   "metadata": {},
   "outputs": [],
   "source": [
    "# 데이터프레임(csv) 파일의 헤더 생성\n",
    "col_list = [\"RADIUS\"]\n",
    "for i in range(1,6001):\n",
    "    cc = \"_\".join((\"CIS_1\", str(i)))\n",
    "    col_list.append(cc)\n",
    "for i in range(1,6001):\n",
    "    cc = \"_\".join((\"CIS_2\", str(i)))\n",
    "    col_list.append(cc)\n",
    "col_list.extend([\"1000\",\"300\",\"150\",\"100\",\"50\",\"10\",\"5\",\"2\",\"1\"])\n",
    "\n",
    "# 추출한 데이터의 정보를 통해 데이터프레임 구성\n",
    "data_df = pd.DataFrame(columns=col_list,data=data_list)"
   ]
  },
  {
   "cell_type": "code",
   "execution_count": null,
   "metadata": {},
   "outputs": [],
   "source": [
    "# 학습을 위한 데이터 저장\n",
    "file_nm = \"./Ubiosis/total_data.csv\"\n",
    "data_df.to_csv(file_nm, index=False)"
   ]
  },
  {
   "cell_type": "code",
   "execution_count": null,
   "metadata": {},
   "outputs": [],
   "source": []
  }
 ],
 "metadata": {
  "kernelspec": {
   "display_name": "Python 3",
   "language": "python",
   "name": "python3"
  },
  "language_info": {
   "codemirror_mode": {
    "name": "ipython",
    "version": 3
   },
   "file_extension": ".py",
   "mimetype": "text/x-python",
   "name": "python",
   "nbconvert_exporter": "python",
   "pygments_lexer": "ipython3",
   "version": "3.11.2"
  },
  "orig_nbformat": 4
 },
 "nbformat": 4,
 "nbformat_minor": 2
}
