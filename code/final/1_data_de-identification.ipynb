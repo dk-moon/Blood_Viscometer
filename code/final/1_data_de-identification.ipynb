{
 "cells": [
  {
   "attachments": {},
   "cell_type": "markdown",
   "metadata": {},
   "source": [
    "# Import Libraries"
   ]
  },
  {
   "cell_type": "code",
   "execution_count": 1,
   "metadata": {},
   "outputs": [],
   "source": [
    "import pandas as pd\n",
    "import numpy as np\n",
    "import os\n",
    "import shutil\n",
    "import warnings\n",
    "warnings.filterwarnings('ignore')\n",
    "\n",
    "from glob import glob\n",
    "from tqdm.auto import tqdm"
   ]
  },
  {
   "attachments": {},
   "cell_type": "markdown",
   "metadata": {},
   "source": [
    "# Get Original Data Path"
   ]
  },
  {
   "cell_type": "code",
   "execution_count": 2,
   "metadata": {},
   "outputs": [
    {
     "data": {
      "application/vnd.jupyter.widget-view+json": {
       "model_id": "681dd5fcbeb8421f99eacc40745e6176",
       "version_major": 2,
       "version_minor": 0
      },
      "text/plain": [
       "0it [00:00, ?it/s]"
      ]
     },
     "metadata": {},
     "output_type": "display_data"
    }
   ],
   "source": [
    "# 원본 데이터가 저장되어진 최상위 폴더의 경로\n",
    "org_root = \"G:/유바이오시스/\"\n",
    "\n",
    "org_id_list = [] # 대상자의 id에 해당하는 정보를 담아두는 리스트 객체\n",
    "for (root, dirs, files) in tqdm(os.walk(org_root)): # 최상위 폴더의 트리구조를 탐색하는 반복문\n",
    "    if len(files) > 0: # 하위 폴더에 파일이 1개 이상인 경우만 탐색\n",
    "        for file_name in files: # 하위 폴더의 파일들을 1개씩 가져오는 반목문\n",
    "            file_nm = \".\".join(file_name.split(\".\")[:-1]) # 확장자를 제외한 파일명 변수\n",
    "            if len(file_nm) > 0:\n",
    "                if file_nm[0] != \".\": # 임시파일 여부 확인\n",
    "                    file_ext = file_name.split(\".\")[-1] # 파일 확장자 변수\n",
    "                    if file_ext == \"bmp\" or file_ext == \"txt\" or file_ext == \"dat\":\n",
    "                        # 원본 id로는 원본 파일의 전체 경로\n",
    "                        file_path = os.path.join(root, file_name).replace(\"\\\\\", \"/\")\n",
    "                        org_id = \"/\".join((root,file_nm)).replace(\"\\\\\",\"/\")\n",
    "\n",
    "                        if org_id not in org_id_list:\n",
    "                            org_id_list.append(org_id)\n",
    "                        else:\n",
    "                            pass\n",
    "                    else:\n",
    "                        pass\n",
    "                else:\n",
    "                    pass"
   ]
  },
  {
   "cell_type": "code",
   "execution_count": 3,
   "metadata": {},
   "outputs": [
    {
     "data": {
      "text/html": [
       "<div>\n",
       "<style scoped>\n",
       "    .dataframe tbody tr th:only-of-type {\n",
       "        vertical-align: middle;\n",
       "    }\n",
       "\n",
       "    .dataframe tbody tr th {\n",
       "        vertical-align: top;\n",
       "    }\n",
       "\n",
       "    .dataframe thead th {\n",
       "        text-align: right;\n",
       "    }\n",
       "</style>\n",
       "<table border=\"1\" class=\"dataframe\">\n",
       "  <thead>\n",
       "    <tr style=\"text-align: right;\">\n",
       "      <th></th>\n",
       "      <th>new_id</th>\n",
       "      <th>org_id</th>\n",
       "    </tr>\n",
       "  </thead>\n",
       "  <tbody>\n",
       "    <tr>\n",
       "      <th>85106</th>\n",
       "      <td>NaN</td>\n",
       "      <td>G:/유바이오시스/강남SV/20230413/k1_2320370399_000538440</td>\n",
       "    </tr>\n",
       "    <tr>\n",
       "      <th>85107</th>\n",
       "      <td>NaN</td>\n",
       "      <td>G:/유바이오시스/강남SV/20230413/k1_2320370399_000538751</td>\n",
       "    </tr>\n",
       "    <tr>\n",
       "      <th>85108</th>\n",
       "      <td>NaN</td>\n",
       "      <td>G:/유바이오시스/강남SV/20230413/k1_2390059976_000538752</td>\n",
       "    </tr>\n",
       "  </tbody>\n",
       "</table>\n",
       "</div>"
      ],
      "text/plain": [
       "      new_id                                           org_id\n",
       "85106    NaN  G:/유바이오시스/강남SV/20230413/k1_2320370399_000538440\n",
       "85107    NaN  G:/유바이오시스/강남SV/20230413/k1_2320370399_000538751\n",
       "85108    NaN  G:/유바이오시스/강남SV/20230413/k1_2390059976_000538752"
      ]
     },
     "execution_count": 3,
     "metadata": {},
     "output_type": "execute_result"
    }
   ],
   "source": [
    "# id 에 관련한 데이터 프레임 생성 후 원본 id 정보 삽입\n",
    "data_df = pd.DataFrame(columns=[\"new_id\", \"org_id\"])\n",
    "data_df[\"org_id\"] = org_id_list\n",
    "data_df.tail(3)"
   ]
  },
  {
   "cell_type": "code",
   "execution_count": 4,
   "metadata": {},
   "outputs": [
    {
     "data": {
      "text/html": [
       "<div>\n",
       "<style scoped>\n",
       "    .dataframe tbody tr th:only-of-type {\n",
       "        vertical-align: middle;\n",
       "    }\n",
       "\n",
       "    .dataframe tbody tr th {\n",
       "        vertical-align: top;\n",
       "    }\n",
       "\n",
       "    .dataframe thead th {\n",
       "        text-align: right;\n",
       "    }\n",
       "</style>\n",
       "<table border=\"1\" class=\"dataframe\">\n",
       "  <thead>\n",
       "    <tr style=\"text-align: right;\">\n",
       "      <th></th>\n",
       "      <th>new_id</th>\n",
       "      <th>org_id</th>\n",
       "    </tr>\n",
       "  </thead>\n",
       "  <tbody>\n",
       "    <tr>\n",
       "      <th>0</th>\n",
       "      <td>NaN</td>\n",
       "      <td>G:/유바이오시스/경희의료원/1번장비/1_03312023_000543011</td>\n",
       "    </tr>\n",
       "    <tr>\n",
       "      <th>1</th>\n",
       "      <td>NaN</td>\n",
       "      <td>G:/유바이오시스/경희의료원/1번장비/1_10022701009474000540637...</td>\n",
       "    </tr>\n",
       "    <tr>\n",
       "      <th>2</th>\n",
       "      <td>NaN</td>\n",
       "      <td>G:/유바이오시스/경희의료원/1번장비/1_I27TS21H0_000540899</td>\n",
       "    </tr>\n",
       "  </tbody>\n",
       "</table>\n",
       "</div>"
      ],
      "text/plain": [
       "  new_id                                             org_id\n",
       "0    NaN          G:/유바이오시스/경희의료원/1번장비/1_03312023_000543011\n",
       "1    NaN  G:/유바이오시스/경희의료원/1번장비/1_10022701009474000540637...\n",
       "2    NaN         G:/유바이오시스/경희의료원/1번장비/1_I27TS21H0_000540899"
      ]
     },
     "execution_count": 4,
     "metadata": {},
     "output_type": "execute_result"
    }
   ],
   "source": [
    "data_df.head(3)"
   ]
  },
  {
   "cell_type": "markdown",
   "metadata": {},
   "source": [
    "# 데이터 비식별화"
   ]
  },
  {
   "cell_type": "code",
   "execution_count": 5,
   "metadata": {},
   "outputs": [
    {
     "data": {
      "application/vnd.jupyter.widget-view+json": {
       "model_id": "f4908ba052074bf88a48a9d408d1fc3e",
       "version_major": 2,
       "version_minor": 0
      },
      "text/plain": [
       "  0%|          | 0/85109 [00:00<?, ?it/s]"
      ]
     },
     "metadata": {},
     "output_type": "display_data"
    },
    {
     "data": {
      "text/html": [
       "<div>\n",
       "<style scoped>\n",
       "    .dataframe tbody tr th:only-of-type {\n",
       "        vertical-align: middle;\n",
       "    }\n",
       "\n",
       "    .dataframe tbody tr th {\n",
       "        vertical-align: top;\n",
       "    }\n",
       "\n",
       "    .dataframe thead th {\n",
       "        text-align: right;\n",
       "    }\n",
       "</style>\n",
       "<table border=\"1\" class=\"dataframe\">\n",
       "  <thead>\n",
       "    <tr style=\"text-align: right;\">\n",
       "      <th></th>\n",
       "      <th>new_id</th>\n",
       "      <th>org_id</th>\n",
       "    </tr>\n",
       "  </thead>\n",
       "  <tbody>\n",
       "    <tr>\n",
       "      <th>85106</th>\n",
       "      <td>u0085106</td>\n",
       "      <td>G:/유바이오시스/강남SV/20230413/k1_2320370399_000538440</td>\n",
       "    </tr>\n",
       "    <tr>\n",
       "      <th>85107</th>\n",
       "      <td>u0085107</td>\n",
       "      <td>G:/유바이오시스/강남SV/20230413/k1_2320370399_000538751</td>\n",
       "    </tr>\n",
       "    <tr>\n",
       "      <th>85108</th>\n",
       "      <td>u0085108</td>\n",
       "      <td>G:/유바이오시스/강남SV/20230413/k1_2390059976_000538752</td>\n",
       "    </tr>\n",
       "  </tbody>\n",
       "</table>\n",
       "</div>"
      ],
      "text/plain": [
       "         new_id                                           org_id\n",
       "85106  u0085106  G:/유바이오시스/강남SV/20230413/k1_2320370399_000538440\n",
       "85107  u0085107  G:/유바이오시스/강남SV/20230413/k1_2320370399_000538751\n",
       "85108  u0085108  G:/유바이오시스/강남SV/20230413/k1_2390059976_000538752"
      ]
     },
     "execution_count": 5,
     "metadata": {},
     "output_type": "execute_result"
    }
   ],
   "source": [
    "# 비식별화 id는 u로 시작하고 숫자 7개를 부여하는데, 데이터프레임의 index 번호를 사용하여 id 생성\n",
    "new_id_list = []\n",
    "for idx in tqdm(range(len(data_df))):\n",
    "    new_id = \"\".join((\"u\", str(idx).zfill(7)))\n",
    "    new_id_list.append(new_id)\n",
    "data_df[\"new_id\"] = new_id_list\n",
    "data_df.tail(3)"
   ]
  },
  {
   "cell_type": "code",
   "execution_count": 6,
   "metadata": {},
   "outputs": [],
   "source": [
    "data_df.to_csv(\"G:/Ubiosis/Ubiosis_data_list.csv\",index=False)"
   ]
  },
  {
   "attachments": {},
   "cell_type": "markdown",
   "metadata": {},
   "source": [
    "# Data Reconstruction"
   ]
  },
  {
   "cell_type": "code",
   "execution_count": 7,
   "metadata": {},
   "outputs": [
    {
     "data": {
      "application/vnd.jupyter.widget-view+json": {
       "model_id": "a3674120918546f7a5d344632f0e5337",
       "version_major": 2,
       "version_minor": 0
      },
      "text/plain": [
       "  0%|          | 0/85109 [00:00<?, ?it/s]"
      ]
     },
     "metadata": {},
     "output_type": "display_data"
    }
   ],
   "source": [
    "# 비식별화 id를 기준으로 데이터 폴더 구출\n",
    "## /recon/비식별화id/dat, bmp, txt\n",
    "\n",
    "# 데이터 구축할 폴더 생성\n",
    "data_path = \"G:/Ubiosis/recon/\"\n",
    "if os.path.isdir(data_path) == False:\n",
    "    os.makedirs(data_path)\n",
    "    \n",
    "# 비식별화 id 데이터프레임을 한 index 씩 탐색하는 반복문\n",
    "for idx in tqdm(range(len(data_df))):\n",
    "    org_id = data_df[\"org_id\"][idx] # 원본 파일 경로\n",
    "    dat_file = \".\".join((org_id, \"dat\")) # 원본 dat 파일 경로\n",
    "    bmp_file = \".\".join((org_id, \"bmp\")) # 원본 bmp 파일 경로\n",
    "    txt_file = \".\".join((org_id, \"txt\")) # 원본 txt 파일 경로\n",
    "\n",
    "    new_id = data_df[\"new_id\"][idx] # 비식별화 id\n",
    "    new_id_path = os.path.join(data_path, new_id) # 비식별화 데이터 경로\n",
    "    if os.path.isdir(new_id_path) == False:\n",
    "        os.mkdir(new_id_path)\n",
    "    # dat 파일을 비식별화 id를 이용한 파일명으로 복사/붙여넣기\n",
    "    if os.path.isfile(dat_file) == True:\n",
    "        new_file_nm = \".\".join((new_id, \"dat\"))\n",
    "        new_file = os.path.join(new_id_path, new_file_nm)\n",
    "        shutil.copy(dat_file, new_file)\n",
    "    # bmp 파일을 비식별화 id를 이용한 파일명으로 복사/붙여넣기\n",
    "    if os.path.isfile(bmp_file) == True:\n",
    "        new_file_nm = \".\".join((new_id, \"bmp\"))\n",
    "        new_file = os.path.join(new_id_path, new_file_nm)\n",
    "        shutil.copy(bmp_file, new_file)\n",
    "    # bmp 파일을 비식별화 id를 이용한 파일명으로 복사/붙여넣기\n",
    "    if os.path.isfile(txt_file) == True:\n",
    "        new_file_nm = \".\".join((new_id, \"txt\"))\n",
    "        new_file = os.path.join(new_id_path, new_file_nm)\n",
    "        shutil.copy(txt_file, new_file)"
   ]
  },
  {
   "cell_type": "code",
   "execution_count": null,
   "metadata": {},
   "outputs": [],
   "source": []
  }
 ],
 "metadata": {
  "kernelspec": {
   "display_name": "Python 3",
   "language": "python",
   "name": "python3"
  },
  "language_info": {
   "codemirror_mode": {
    "name": "ipython",
    "version": 3
   },
   "file_extension": ".py",
   "mimetype": "text/x-python",
   "name": "python",
   "nbconvert_exporter": "python",
   "pygments_lexer": "ipython3",
   "version": "3.10.9"
  },
  "orig_nbformat": 4
 },
 "nbformat": 4,
 "nbformat_minor": 2
}
